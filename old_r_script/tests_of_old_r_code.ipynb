{
 "cells": [
  {
   "cell_type": "code",
   "execution_count": 1,
   "metadata": {},
   "outputs": [
    {
     "name": "stderr",
     "output_type": "stream",
     "text": [
      "Warning message:\n",
      "\"package 'data.table' was built under R version 4.1.2\"\n"
     ]
    }
   ],
   "source": [
    "library(\"data.table\")"
   ]
  },
  {
   "cell_type": "code",
   "execution_count": 2,
   "metadata": {},
   "outputs": [
    {
     "data": {
      "text/html": [
       "<table class=\"dataframe\">\n",
       "<caption>A data.table: 18 × 5</caption>\n",
       "<thead>\n",
       "\t<tr><th scope=col>var_a</th><th scope=col>var_b</th><th scope=col>slk_from</th><th scope=col>slk_to</th><th scope=col>length</th></tr>\n",
       "\t<tr><th scope=col>&lt;dbl&gt;</th><th scope=col>&lt;dbl&gt;</th><th scope=col>&lt;dbl&gt;</th><th scope=col>&lt;dbl&gt;</th><th scope=col>&lt;dbl&gt;</th></tr>\n",
       "</thead>\n",
       "<tbody>\n",
       "\t<tr><td>1</td><td>3</td><td>0.00</td><td>0.01</td><td>0.01</td></tr>\n",
       "\t<tr><td>2</td><td>2</td><td>0.01</td><td>0.02</td><td>0.01</td></tr>\n",
       "\t<tr><td>3</td><td>1</td><td>0.02</td><td>0.03</td><td>0.01</td></tr>\n",
       "\t<tr><td>4</td><td>3</td><td>0.03</td><td>0.04</td><td>0.01</td></tr>\n",
       "\t<tr><td>2</td><td>5</td><td>0.04</td><td>0.05</td><td>0.01</td></tr>\n",
       "\t<tr><td>3</td><td>6</td><td>0.05</td><td>0.06</td><td>0.01</td></tr>\n",
       "\t<tr><td>1</td><td>5</td><td>0.06</td><td>0.07</td><td>0.01</td></tr>\n",
       "\t<tr><td>5</td><td>6</td><td>0.07</td><td>0.08</td><td>0.01</td></tr>\n",
       "\t<tr><td>3</td><td>4</td><td>0.08</td><td>0.09</td><td>0.01</td></tr>\n",
       "\t<tr><td>4</td><td>7</td><td>0.09</td><td>0.10</td><td>0.01</td></tr>\n",
       "\t<tr><td>6</td><td>9</td><td>0.10</td><td>0.11</td><td>0.01</td></tr>\n",
       "\t<tr><td>4</td><td>4</td><td>0.11</td><td>0.12</td><td>0.01</td></tr>\n",
       "\t<tr><td>3</td><td>3</td><td>0.12</td><td>0.13</td><td>0.01</td></tr>\n",
       "\t<tr><td>7</td><td>2</td><td>0.13</td><td>0.14</td><td>0.01</td></tr>\n",
       "\t<tr><td>5</td><td>3</td><td>0.14</td><td>0.15</td><td>0.01</td></tr>\n",
       "\t<tr><td>6</td><td>1</td><td>0.15</td><td>0.16</td><td>0.01</td></tr>\n",
       "\t<tr><td>4</td><td>3</td><td>0.16</td><td>0.17</td><td>0.01</td></tr>\n",
       "\t<tr><td>5</td><td>2</td><td>0.17</td><td>0.18</td><td>0.01</td></tr>\n",
       "</tbody>\n",
       "</table>\n"
      ],
      "text/latex": [
       "A data.table: 18 × 5\n",
       "\\begin{tabular}{lllll}\n",
       " var\\_a & var\\_b & slk\\_from & slk\\_to & length\\\\\n",
       " <dbl> & <dbl> & <dbl> & <dbl> & <dbl>\\\\\n",
       "\\hline\n",
       "\t 1 & 3 & 0.00 & 0.01 & 0.01\\\\\n",
       "\t 2 & 2 & 0.01 & 0.02 & 0.01\\\\\n",
       "\t 3 & 1 & 0.02 & 0.03 & 0.01\\\\\n",
       "\t 4 & 3 & 0.03 & 0.04 & 0.01\\\\\n",
       "\t 2 & 5 & 0.04 & 0.05 & 0.01\\\\\n",
       "\t 3 & 6 & 0.05 & 0.06 & 0.01\\\\\n",
       "\t 1 & 5 & 0.06 & 0.07 & 0.01\\\\\n",
       "\t 5 & 6 & 0.07 & 0.08 & 0.01\\\\\n",
       "\t 3 & 4 & 0.08 & 0.09 & 0.01\\\\\n",
       "\t 4 & 7 & 0.09 & 0.10 & 0.01\\\\\n",
       "\t 6 & 9 & 0.10 & 0.11 & 0.01\\\\\n",
       "\t 4 & 4 & 0.11 & 0.12 & 0.01\\\\\n",
       "\t 3 & 3 & 0.12 & 0.13 & 0.01\\\\\n",
       "\t 7 & 2 & 0.13 & 0.14 & 0.01\\\\\n",
       "\t 5 & 3 & 0.14 & 0.15 & 0.01\\\\\n",
       "\t 6 & 1 & 0.15 & 0.16 & 0.01\\\\\n",
       "\t 4 & 3 & 0.16 & 0.17 & 0.01\\\\\n",
       "\t 5 & 2 & 0.17 & 0.18 & 0.01\\\\\n",
       "\\end{tabular}\n"
      ],
      "text/markdown": [
       "\n",
       "A data.table: 18 × 5\n",
       "\n",
       "| var_a &lt;dbl&gt; | var_b &lt;dbl&gt; | slk_from &lt;dbl&gt; | slk_to &lt;dbl&gt; | length &lt;dbl&gt; |\n",
       "|---|---|---|---|---|\n",
       "| 1 | 3 | 0.00 | 0.01 | 0.01 |\n",
       "| 2 | 2 | 0.01 | 0.02 | 0.01 |\n",
       "| 3 | 1 | 0.02 | 0.03 | 0.01 |\n",
       "| 4 | 3 | 0.03 | 0.04 | 0.01 |\n",
       "| 2 | 5 | 0.04 | 0.05 | 0.01 |\n",
       "| 3 | 6 | 0.05 | 0.06 | 0.01 |\n",
       "| 1 | 5 | 0.06 | 0.07 | 0.01 |\n",
       "| 5 | 6 | 0.07 | 0.08 | 0.01 |\n",
       "| 3 | 4 | 0.08 | 0.09 | 0.01 |\n",
       "| 4 | 7 | 0.09 | 0.10 | 0.01 |\n",
       "| 6 | 9 | 0.10 | 0.11 | 0.01 |\n",
       "| 4 | 4 | 0.11 | 0.12 | 0.01 |\n",
       "| 3 | 3 | 0.12 | 0.13 | 0.01 |\n",
       "| 7 | 2 | 0.13 | 0.14 | 0.01 |\n",
       "| 5 | 3 | 0.14 | 0.15 | 0.01 |\n",
       "| 6 | 1 | 0.15 | 0.16 | 0.01 |\n",
       "| 4 | 3 | 0.16 | 0.17 | 0.01 |\n",
       "| 5 | 2 | 0.17 | 0.18 | 0.01 |\n",
       "\n"
      ],
      "text/plain": [
       "   var_a var_b slk_from slk_to length\n",
       "1  1     3     0.00     0.01   0.01  \n",
       "2  2     2     0.01     0.02   0.01  \n",
       "3  3     1     0.02     0.03   0.01  \n",
       "4  4     3     0.03     0.04   0.01  \n",
       "5  2     5     0.04     0.05   0.01  \n",
       "6  3     6     0.05     0.06   0.01  \n",
       "7  1     5     0.06     0.07   0.01  \n",
       "8  5     6     0.07     0.08   0.01  \n",
       "9  3     4     0.08     0.09   0.01  \n",
       "10 4     7     0.09     0.10   0.01  \n",
       "11 6     9     0.10     0.11   0.01  \n",
       "12 4     4     0.11     0.12   0.01  \n",
       "13 3     3     0.12     0.13   0.01  \n",
       "14 7     2     0.13     0.14   0.01  \n",
       "15 5     3     0.14     0.15   0.01  \n",
       "16 6     1     0.15     0.16   0.01  \n",
       "17 4     3     0.16     0.17   0.01  \n",
       "18 5     2     0.17     0.18   0.01  "
      ]
     },
     "metadata": {},
     "output_type": "display_data"
    }
   ],
   "source": [
    "# prepare dummy input\n",
    "\n",
    "var_a <- c(\n",
    "\t1,\n",
    "\t2,\n",
    "\t3,\n",
    "\t4,\n",
    "\t2,\n",
    "\t3,\n",
    "\t1,\n",
    "\t5,\n",
    "\t3,\n",
    "\t4,\n",
    "\t6,\n",
    "\t4,\n",
    "\t3,\n",
    "\t7,\n",
    "\t5,\n",
    "\t6,\n",
    "\t4,\n",
    "\t5\n",
    ")\n",
    "\n",
    "var_b <- c(\n",
    "\t3,\n",
    "\t2,\n",
    "\t1,\n",
    "\t3,\n",
    "\t5,\n",
    "\t6,\n",
    "\t5,\n",
    "\t6,\n",
    "\t4,\n",
    "\t7,\n",
    "\t9,\n",
    "\t4,\n",
    "\t3,\n",
    "\t2,\n",
    "\t3,\n",
    "\t1,\n",
    "\t3,\n",
    "\t2\n",
    ")\n",
    "\n",
    "slk_from <- c(\n",
    "\t0.000,\n",
    "\t0.010,\n",
    "\t0.020,\n",
    "\t0.030,\n",
    "\t0.040,\n",
    "\t0.050,\n",
    "\t0.060,\n",
    "\t0.070,\n",
    "\t0.080,\n",
    "\t0.090,\n",
    "\t0.100,\n",
    "\t0.110,\n",
    "\t0.120,\n",
    "\t0.130,\n",
    "\t0.140,\n",
    "\t0.150,\n",
    "\t0.160,\n",
    "\t0.170\n",
    ")\n",
    "\n",
    "slk_to <- c(\n",
    "\t0.010,\n",
    "\t0.020,\n",
    "\t0.030,\n",
    "\t0.040,\n",
    "\t0.050,\n",
    "\t0.060,\n",
    "\t0.070,\n",
    "\t0.080,\n",
    "\t0.090,\n",
    "\t0.100,\n",
    "\t0.110,\n",
    "\t0.120,\n",
    "\t0.130,\n",
    "\t0.140,\n",
    "\t0.150,\n",
    "\t0.160,\n",
    "\t0.170,\n",
    "\t0.180\n",
    ")\n",
    "\n",
    "length <- c(\n",
    "\t0.010,\n",
    "\t0.010,\n",
    "\t0.010,\n",
    "\t0.010,\n",
    "\t0.010,\n",
    "\t0.010,\n",
    "\t0.010,\n",
    "\t0.010,\n",
    "\t0.010,\n",
    "\t0.010,\n",
    "\t0.010,\n",
    "\t0.010,\n",
    "\t0.010,\n",
    "\t0.010,\n",
    "\t0.010,\n",
    "\t0.010,\n",
    "\t0.010,\n",
    "\t0.010\n",
    ")\n",
    "\n",
    "data <- as.data.table(data.frame(var_a, var_b, slk_from, slk_to, length))\n",
    "#data = data.frame(var_a,var_b,slk_from,slk_to,length)\n",
    "data"
   ]
  },
  {
   "cell_type": "code",
   "execution_count": 3,
   "metadata": {},
   "outputs": [
    {
     "data": {
      "text/html": [
       "<table class=\"dataframe\">\n",
       "<caption>A data.table: 18 × 2</caption>\n",
       "<thead>\n",
       "\t<tr><th scope=col>var_a</th><th scope=col>var_b</th></tr>\n",
       "\t<tr><th scope=col>&lt;dbl&gt;</th><th scope=col>&lt;dbl&gt;</th></tr>\n",
       "</thead>\n",
       "<tbody>\n",
       "\t<tr><td>1</td><td>3</td></tr>\n",
       "\t<tr><td>2</td><td>2</td></tr>\n",
       "\t<tr><td>3</td><td>1</td></tr>\n",
       "\t<tr><td>4</td><td>3</td></tr>\n",
       "\t<tr><td>2</td><td>5</td></tr>\n",
       "\t<tr><td>3</td><td>6</td></tr>\n",
       "\t<tr><td>1</td><td>5</td></tr>\n",
       "\t<tr><td>5</td><td>6</td></tr>\n",
       "\t<tr><td>3</td><td>4</td></tr>\n",
       "\t<tr><td>4</td><td>7</td></tr>\n",
       "\t<tr><td>6</td><td>9</td></tr>\n",
       "\t<tr><td>4</td><td>4</td></tr>\n",
       "\t<tr><td>3</td><td>3</td></tr>\n",
       "\t<tr><td>7</td><td>2</td></tr>\n",
       "\t<tr><td>5</td><td>3</td></tr>\n",
       "\t<tr><td>6</td><td>1</td></tr>\n",
       "\t<tr><td>4</td><td>3</td></tr>\n",
       "\t<tr><td>5</td><td>2</td></tr>\n",
       "</tbody>\n",
       "</table>\n"
      ],
      "text/latex": [
       "A data.table: 18 × 2\n",
       "\\begin{tabular}{ll}\n",
       " var\\_a & var\\_b\\\\\n",
       " <dbl> & <dbl>\\\\\n",
       "\\hline\n",
       "\t 1 & 3\\\\\n",
       "\t 2 & 2\\\\\n",
       "\t 3 & 1\\\\\n",
       "\t 4 & 3\\\\\n",
       "\t 2 & 5\\\\\n",
       "\t 3 & 6\\\\\n",
       "\t 1 & 5\\\\\n",
       "\t 5 & 6\\\\\n",
       "\t 3 & 4\\\\\n",
       "\t 4 & 7\\\\\n",
       "\t 6 & 9\\\\\n",
       "\t 4 & 4\\\\\n",
       "\t 3 & 3\\\\\n",
       "\t 7 & 2\\\\\n",
       "\t 5 & 3\\\\\n",
       "\t 6 & 1\\\\\n",
       "\t 4 & 3\\\\\n",
       "\t 5 & 2\\\\\n",
       "\\end{tabular}\n"
      ],
      "text/markdown": [
       "\n",
       "A data.table: 18 × 2\n",
       "\n",
       "| var_a &lt;dbl&gt; | var_b &lt;dbl&gt; |\n",
       "|---|---|\n",
       "| 1 | 3 |\n",
       "| 2 | 2 |\n",
       "| 3 | 1 |\n",
       "| 4 | 3 |\n",
       "| 2 | 5 |\n",
       "| 3 | 6 |\n",
       "| 1 | 5 |\n",
       "| 5 | 6 |\n",
       "| 3 | 4 |\n",
       "| 4 | 7 |\n",
       "| 6 | 9 |\n",
       "| 4 | 4 |\n",
       "| 3 | 3 |\n",
       "| 7 | 2 |\n",
       "| 5 | 3 |\n",
       "| 6 | 1 |\n",
       "| 4 | 3 |\n",
       "| 5 | 2 |\n",
       "\n"
      ],
      "text/plain": [
       "   var_a var_b\n",
       "1  1     3    \n",
       "2  2     2    \n",
       "3  3     1    \n",
       "4  4     3    \n",
       "5  2     5    \n",
       "6  3     6    \n",
       "7  1     5    \n",
       "8  5     6    \n",
       "9  3     4    \n",
       "10 4     7    \n",
       "11 6     9    \n",
       "12 4     4    \n",
       "13 3     3    \n",
       "14 7     2    \n",
       "15 5     3    \n",
       "16 6     1    \n",
       "17 4     3    \n",
       "18 5     2    "
      ]
     },
     "metadata": {},
     "output_type": "display_data"
    }
   ],
   "source": [
    "var <- c(\"var_a\", \"var_b\")\n",
    "\n",
    "data_var <- data[, ..var]\n",
    "data_var"
   ]
  },
  {
   "cell_type": "code",
   "execution_count": 4,
   "metadata": {},
   "outputs": [],
   "source": [
    "min.length <- 0.020 # min(length)\n",
    "max.length <- 0.100 # sum(length)"
   ]
  },
  {
   "cell_type": "code",
   "execution_count": 6,
   "metadata": {},
   "outputs": [
    {
     "data": {
      "text/html": [
       "<style>\n",
       ".list-inline {list-style: none; margin:0; padding: 0}\n",
       ".list-inline>li {display: inline-block}\n",
       ".list-inline>li:not(:last-child)::after {content: \"\\00b7\"; padding: 0 .5ex}\n",
       "</style>\n",
       "<ol class=list-inline><li>1</li><li>2</li><li>3</li></ol>\n"
      ],
      "text/latex": [
       "\\begin{enumerate*}\n",
       "\\item 1\n",
       "\\item 2\n",
       "\\item 3\n",
       "\\end{enumerate*}\n"
      ],
      "text/markdown": [
       "1. 1\n",
       "2. 2\n",
       "3. 3\n",
       "\n",
       "\n"
      ],
      "text/plain": [
       "[1] 1 2 3"
      ]
     },
     "metadata": {},
     "output_type": "display_data"
    },
    {
     "data": {
      "text/html": [
       "<style>\n",
       ".list-inline {list-style: none; margin:0; padding: 0}\n",
       ".list-inline>li {display: inline-block}\n",
       ".list-inline>li:not(:last-child)::after {content: \"\\00b7\"; padding: 0 .5ex}\n",
       "</style>\n",
       "<ol class=list-inline><li>18</li><li>17</li><li>16</li></ol>\n"
      ],
      "text/latex": [
       "\\begin{enumerate*}\n",
       "\\item 18\n",
       "\\item 17\n",
       "\\item 16\n",
       "\\end{enumerate*}\n"
      ],
      "text/markdown": [
       "1. 18\n",
       "2. 17\n",
       "3. 16\n",
       "\n",
       "\n"
      ],
      "text/plain": [
       "[1] 18 17 16"
      ]
     },
     "metadata": {},
     "output_type": "display_data"
    }
   ],
   "source": [
    "# find the range of indecies in the middle of the sequence\n",
    "# such that if segmentation were performed at that index\n",
    "# then the lengh of the segments on either side would be\n",
    "# would be longer than the minimum length\n",
    "\n",
    "data_length     <- data[[\"length\"]] # array\n",
    "cumlength_left  <- cumsum(data_length);\n",
    "cumlength_right <- cumsum(rev(data_length))\n",
    "\n",
    "k_left  <-                  c(1, which(cumlength_left  <= min.length) + 1)\n",
    "k_left\n",
    "\n",
    "k_right <- nrow(data_var) - c(0, which(cumlength_right <= min.length))\n",
    "k_right"
   ]
  },
  {
   "cell_type": "code",
   "execution_count": 7,
   "metadata": {},
   "outputs": [
    {
     "data": {
      "text/html": [
       "<style>\n",
       ".list-inline {list-style: none; margin:0; padding: 0}\n",
       ".list-inline>li {display: inline-block}\n",
       ".list-inline>li:not(:last-child)::after {content: \"\\00b7\"; padding: 0 .5ex}\n",
       "</style>\n",
       "<ol class=list-inline><li>4</li><li>5</li><li>6</li><li>7</li><li>8</li><li>9</li><li>10</li><li>11</li><li>12</li><li>13</li><li>14</li><li>15</li></ol>\n"
      ],
      "text/latex": [
       "\\begin{enumerate*}\n",
       "\\item 4\n",
       "\\item 5\n",
       "\\item 6\n",
       "\\item 7\n",
       "\\item 8\n",
       "\\item 9\n",
       "\\item 10\n",
       "\\item 11\n",
       "\\item 12\n",
       "\\item 13\n",
       "\\item 14\n",
       "\\item 15\n",
       "\\end{enumerate*}\n"
      ],
      "text/markdown": [
       "1. 4\n",
       "2. 5\n",
       "3. 6\n",
       "4. 7\n",
       "5. 8\n",
       "6. 9\n",
       "7. 10\n",
       "8. 11\n",
       "9. 12\n",
       "10. 13\n",
       "11. 14\n",
       "12. 15\n",
       "\n",
       "\n"
      ],
      "text/plain": [
       " [1]  4  5  6  7  8  9 10 11 12 13 14 15"
      ]
     },
     "metadata": {},
     "output_type": "display_data"
    }
   ],
   "source": [
    "# note that negating the indecies has the effect of\n",
    "# removing those indecies from the list\n",
    "k <- c(1 : nrow(data_var))[-c(k_left, k_right)]\n",
    "k"
   ]
  },
  {
   "cell_type": "markdown",
   "metadata": {},
   "source": [
    "The following function computes the following:\n",
    "$$\n",
    "Q_s = 1 - \\frac{N_a \\sigma^{2}_{a} + N_b \\sigma^{2}_{b}}{N^{2}_{\\sigma}}\n",
    "$$"
   ]
  },
  {
   "cell_type": "code",
   "execution_count": 17,
   "metadata": {},
   "outputs": [],
   "source": [
    "cumq <- function(data){ # debug: use cumq to calculate q values along all segment points\n",
    "    n                    <- length(data)\n",
    "    cum_n                <- 1:(n - 1) # reduces length by 1\n",
    "\tstopifnot(length(cum_n) == length(data) - 1)\n",
    "    data_left            <- data[cum_n]\n",
    "    data_right           <- rev(data)[cum_n]\n",
    "    cum_data_left        <- cumsum(data_left)\n",
    "    cum_data_right       <- rev(cumsum(data_right))\n",
    "    sumd                 <- sum(data)\n",
    "    cum_datasquare_left  <- cumsum(data_left * data_left)\n",
    "    cum_datasquare_right <- rev(cumsum(data_right * data_right))\n",
    "\n",
    "    cqvalue <- (\n",
    "        1 \n",
    "        - (\n",
    "            (cum_datasquare_left  - cum_data_left  * cum_data_left  / cum_n) +\n",
    "            (cum_datasquare_right - cum_data_right * cum_data_right / rev(cum_n))\n",
    "        ) / (sum(data * data) - sumd * sumd / n)\n",
    "    )\n",
    "\n",
    "    return(cqvalue)\n",
    "}"
   ]
  },
  {
   "cell_type": "code",
   "execution_count": 18,
   "metadata": {},
   "outputs": [
    {
     "data": {
      "text/html": [
       "<table class=\"dataframe\">\n",
       "<caption>A matrix: 12 × 2 of type dbl</caption>\n",
       "<tbody>\n",
       "\t<tr><td>0.2316742</td><td>0.1541401274</td></tr>\n",
       "\t<tr><td>0.1709761</td><td>0.1642402184</td></tr>\n",
       "\t<tr><td>0.2675948</td><td>0.0941695247</td></tr>\n",
       "\t<tr><td>0.2992081</td><td>0.0286624204</td></tr>\n",
       "\t<tr><td>0.5192455</td><td>0.0100090992</td></tr>\n",
       "\t<tr><td>0.3896493</td><td>0.0003184713</td></tr>\n",
       "\t<tr><td>0.4524887</td><td>0.0007077141</td></tr>\n",
       "\t<tr><td>0.4380090</td><td>0.0385350318</td></tr>\n",
       "\t<tr><td>0.2717283</td><td>0.2323599967</td></tr>\n",
       "\t<tr><td>0.2737557</td><td>0.2579617834</td></tr>\n",
       "\t<tr><td>0.3709711</td><td>0.2352768251</td></tr>\n",
       "\t<tr><td>0.1564318</td><td>0.1642402184</td></tr>\n",
       "</tbody>\n",
       "</table>\n"
      ],
      "text/latex": [
       "A matrix: 12 × 2 of type dbl\n",
       "\\begin{tabular}{ll}\n",
       "\t 0.2316742 & 0.1541401274\\\\\n",
       "\t 0.1709761 & 0.1642402184\\\\\n",
       "\t 0.2675948 & 0.0941695247\\\\\n",
       "\t 0.2992081 & 0.0286624204\\\\\n",
       "\t 0.5192455 & 0.0100090992\\\\\n",
       "\t 0.3896493 & 0.0003184713\\\\\n",
       "\t 0.4524887 & 0.0007077141\\\\\n",
       "\t 0.4380090 & 0.0385350318\\\\\n",
       "\t 0.2717283 & 0.2323599967\\\\\n",
       "\t 0.2737557 & 0.2579617834\\\\\n",
       "\t 0.3709711 & 0.2352768251\\\\\n",
       "\t 0.1564318 & 0.1642402184\\\\\n",
       "\\end{tabular}\n"
      ],
      "text/markdown": [
       "\n",
       "A matrix: 12 × 2 of type dbl\n",
       "\n",
       "| 0.2316742 | 0.1541401274 |\n",
       "| 0.1709761 | 0.1642402184 |\n",
       "| 0.2675948 | 0.0941695247 |\n",
       "| 0.2992081 | 0.0286624204 |\n",
       "| 0.5192455 | 0.0100090992 |\n",
       "| 0.3896493 | 0.0003184713 |\n",
       "| 0.4524887 | 0.0007077141 |\n",
       "| 0.4380090 | 0.0385350318 |\n",
       "| 0.2717283 | 0.2323599967 |\n",
       "| 0.2737557 | 0.2579617834 |\n",
       "| 0.3709711 | 0.2352768251 |\n",
       "| 0.1564318 | 0.1642402184 |\n",
       "\n"
      ],
      "text/plain": [
       "      [,1]      [,2]        \n",
       " [1,] 0.2316742 0.1541401274\n",
       " [2,] 0.1709761 0.1642402184\n",
       " [3,] 0.2675948 0.0941695247\n",
       " [4,] 0.2992081 0.0286624204\n",
       " [5,] 0.5192455 0.0100090992\n",
       " [6,] 0.3896493 0.0003184713\n",
       " [7,] 0.4524887 0.0007077141\n",
       " [8,] 0.4380090 0.0385350318\n",
       " [9,] 0.2717283 0.2323599967\n",
       "[10,] 0.2737557 0.2579617834\n",
       "[11,] 0.3709711 0.2352768251\n",
       "[12,] 0.1564318 0.1642402184"
      ]
     },
     "metadata": {},
     "output_type": "display_data"
    }
   ],
   "source": [
    "qvalue <- matrix(NA, length(k), length(var))\n",
    "for (i in 1 : length(var)) {\n",
    "\tqvalue[, i] <- cumq(data_var[[i]])[k - 1] # debug: use cumq function instead of q function\n",
    "}\n",
    "qvalue"
   ]
  },
  {
   "cell_type": "code",
   "execution_count": 21,
   "metadata": {},
   "outputs": [],
   "source": [
    "\n",
    "qvalue <- rowMeans(qvalue)\n",
    "maxk <- which(qvalue == max(qvalue)) + max(k_left)"
   ]
  },
  {
   "cell_type": "code",
   "execution_count": 22,
   "metadata": {},
   "outputs": [
    {
     "data": {
      "text/html": [
       "<style>\n",
       ".list-inline {list-style: none; margin:0; padding: 0}\n",
       ".list-inline>li {display: inline-block}\n",
       ".list-inline>li:not(:last-child)::after {content: \"\\00b7\"; padding: 0 .5ex}\n",
       "</style>\n",
       "<ol class=list-inline><li>0.144326688906822</li><li>0.192907167766665</li><li>0.167608150560567</li><li>0.180882186666548</li><li>0.163935282589273</li><li>0.264627279801502</li><li>0.194983896302274</li><li>0.226598200933158</li><li>0.238272040810445</li><li>0.252044134209739</li><li>0.265858719774044</li><li>0.303123967711684</li><li>0.160336010935486</li><li>0.131821194915987</li></ol>\n"
      ],
      "text/latex": [
       "\\begin{enumerate*}\n",
       "\\item 0.144326688906822\n",
       "\\item 0.192907167766665\n",
       "\\item 0.167608150560567\n",
       "\\item 0.180882186666548\n",
       "\\item 0.163935282589273\n",
       "\\item 0.264627279801502\n",
       "\\item 0.194983896302274\n",
       "\\item 0.226598200933158\n",
       "\\item 0.238272040810445\n",
       "\\item 0.252044134209739\n",
       "\\item 0.265858719774044\n",
       "\\item 0.303123967711684\n",
       "\\item 0.160336010935486\n",
       "\\item 0.131821194915987\n",
       "\\end{enumerate*}\n"
      ],
      "text/markdown": [
       "1. 0.144326688906822\n",
       "2. 0.192907167766665\n",
       "3. 0.167608150560567\n",
       "4. 0.180882186666548\n",
       "5. 0.163935282589273\n",
       "6. 0.264627279801502\n",
       "7. 0.194983896302274\n",
       "8. 0.226598200933158\n",
       "9. 0.238272040810445\n",
       "10. 0.252044134209739\n",
       "11. 0.265858719774044\n",
       "12. 0.303123967711684\n",
       "13. 0.160336010935486\n",
       "14. 0.131821194915987\n",
       "\n",
       "\n"
      ],
      "text/plain": [
       " [1] 0.1443267 0.1929072 0.1676082 0.1808822 0.1639353 0.2646273 0.1949839\n",
       " [8] 0.2265982 0.2382720 0.2520441 0.2658587 0.3031240 0.1603360 0.1318212"
      ]
     },
     "metadata": {},
     "output_type": "display_data"
    }
   ],
   "source": [
    "qvalue"
   ]
  },
  {
   "cell_type": "code",
   "execution_count": 23,
   "metadata": {},
   "outputs": [
    {
     "data": {
      "text/html": [
       "14"
      ],
      "text/latex": [
       "14"
      ],
      "text/markdown": [
       "14"
      ],
      "text/plain": [
       "[1] 14"
      ]
     },
     "metadata": {},
     "output_type": "display_data"
    }
   ],
   "source": [
    "maxk"
   ]
  },
  {
   "cell_type": "code",
   "execution_count": 24,
   "metadata": {},
   "outputs": [
    {
     "data": {
      "text/html": [
       "<style>\n",
       ".list-inline {list-style: none; margin:0; padding: 0}\n",
       ".list-inline>li {display: inline-block}\n",
       ".list-inline>li:not(:last-child)::after {content: \"\\00b7\"; padding: 0 .5ex}\n",
       "</style>\n",
       "<ol class=list-inline><li>2</li><li>3</li><li>4</li></ol>\n"
      ],
      "text/latex": [
       "\\begin{enumerate*}\n",
       "\\item 2\n",
       "\\item 3\n",
       "\\item 4\n",
       "\\end{enumerate*}\n"
      ],
      "text/markdown": [
       "1. 2\n",
       "2. 3\n",
       "3. 4\n",
       "\n",
       "\n"
      ],
      "text/plain": [
       "[1] 2 3 4"
      ]
     },
     "metadata": {},
     "output_type": "display_data"
    }
   ],
   "source": [
    "c(2:4)"
   ]
  },
  {
   "cell_type": "code",
   "execution_count": 25,
   "metadata": {},
   "outputs": [
    {
     "data": {
      "text/html": [
       "<table class=\"dataframe\">\n",
       "<caption>A matrix: 3 × 2 of type dbl</caption>\n",
       "<tbody>\n",
       "\t<tr><td>1</td><td>4</td></tr>\n",
       "\t<tr><td>2</td><td>5</td></tr>\n",
       "\t<tr><td>3</td><td>6</td></tr>\n",
       "</tbody>\n",
       "</table>\n"
      ],
      "text/latex": [
       "A matrix: 3 × 2 of type dbl\n",
       "\\begin{tabular}{ll}\n",
       "\t 1 & 4\\\\\n",
       "\t 2 & 5\\\\\n",
       "\t 3 & 6\\\\\n",
       "\\end{tabular}\n"
      ],
      "text/markdown": [
       "\n",
       "A matrix: 3 × 2 of type dbl\n",
       "\n",
       "| 1 | 4 |\n",
       "| 2 | 5 |\n",
       "| 3 | 6 |\n",
       "\n"
      ],
      "text/plain": [
       "     [,1] [,2]\n",
       "[1,] 1    4   \n",
       "[2,] 2    5   \n",
       "[3,] 3    6   "
      ]
     },
     "metadata": {},
     "output_type": "display_data"
    }
   ],
   "source": [
    "cbind(c(1,2,3),c(4,5,6))"
   ]
  },
  {
   "cell_type": "code",
   "execution_count": 28,
   "metadata": {},
   "outputs": [
    {
     "data": {
      "text/html": [
       "<style>\n",
       ".list-inline {list-style: none; margin:0; padding: 0}\n",
       ".list-inline>li {display: inline-block}\n",
       ".list-inline>li:not(:last-child)::after {content: \"\\00b7\"; padding: 0 .5ex}\n",
       "</style>\n",
       "<ol class=list-inline><li>1</li><li>2</li><li>5</li><li>6</li><li>7</li><li>8</li><li>9</li><li>10</li></ol>\n"
      ],
      "text/latex": [
       "\\begin{enumerate*}\n",
       "\\item 1\n",
       "\\item 2\n",
       "\\item 5\n",
       "\\item 6\n",
       "\\item 7\n",
       "\\item 8\n",
       "\\item 9\n",
       "\\item 10\n",
       "\\end{enumerate*}\n"
      ],
      "text/markdown": [
       "1. 1\n",
       "2. 2\n",
       "3. 5\n",
       "4. 6\n",
       "5. 7\n",
       "6. 8\n",
       "7. 9\n",
       "8. 10\n",
       "\n",
       "\n"
      ],
      "text/plain": [
       "[1]  1  2  5  6  7  8  9 10"
      ]
     },
     "metadata": {},
     "output_type": "display_data"
    }
   ],
   "source": [
    "c(1:10)[-c(3,4)]"
   ]
  },
  {
   "cell_type": "code",
   "execution_count": 29,
   "metadata": {},
   "outputs": [
    {
     "data": {
      "text/html": [
       "<style>\n",
       ".list-inline {list-style: none; margin:0; padding: 0}\n",
       ".list-inline>li {display: inline-block}\n",
       ".list-inline>li:not(:last-child)::after {content: \"\\00b7\"; padding: 0 .5ex}\n",
       "</style>\n",
       "<ol class=list-inline><li>-3</li><li>-4</li></ol>\n"
      ],
      "text/latex": [
       "\\begin{enumerate*}\n",
       "\\item -3\n",
       "\\item -4\n",
       "\\end{enumerate*}\n"
      ],
      "text/markdown": [
       "1. -3\n",
       "2. -4\n",
       "\n",
       "\n"
      ],
      "text/plain": [
       "[1] -3 -4"
      ]
     },
     "metadata": {},
     "output_type": "display_data"
    }
   ],
   "source": [
    "-c(3,4)"
   ]
  },
  {
   "cell_type": "code",
   "execution_count": 4,
   "metadata": {},
   "outputs": [
    {
     "data": {
      "text/html": [
       "<style>\n",
       ".list-inline {list-style: none; margin:0; padding: 0}\n",
       ".list-inline>li {display: inline-block}\n",
       ".list-inline>li:not(:last-child)::after {content: \"\\00b7\"; padding: 0 .5ex}\n",
       "</style>\n",
       "<ol class=list-inline><li>1</li><li>2</li><li>1</li><li>2</li></ol>\n"
      ],
      "text/latex": [
       "\\begin{enumerate*}\n",
       "\\item 1\n",
       "\\item 2\n",
       "\\item 1\n",
       "\\item 2\n",
       "\\end{enumerate*}\n"
      ],
      "text/markdown": [
       "1. 1\n",
       "2. 2\n",
       "3. 1\n",
       "4. 2\n",
       "\n",
       "\n"
      ],
      "text/plain": [
       "[1] 1 2 1 2"
      ]
     },
     "metadata": {},
     "output_type": "display_data"
    }
   ],
   "source": [
    "rep(1:2,2)"
   ]
  },
  {
   "cell_type": "code",
   "execution_count": 19,
   "metadata": {},
   "outputs": [
    {
     "data": {
      "text/html": [],
      "text/latex": [],
      "text/markdown": [],
      "text/plain": [
       "numeric(0)"
      ]
     },
     "metadata": {},
     "output_type": "display_data"
    }
   ],
   "source": [
    "c(1,2,3)[0]"
   ]
  },
  {
   "cell_type": "code",
   "execution_count": null,
   "metadata": {},
   "outputs": [],
   "source": []
  }
 ],
 "metadata": {
  "kernelspec": {
   "display_name": "R",
   "language": "R",
   "name": "ir"
  },
  "language_info": {
   "codemirror_mode": "r",
   "file_extension": ".r",
   "mimetype": "text/x-r-source",
   "name": "R",
   "pygments_lexer": "r",
   "version": "4.1.0"
  },
  "orig_nbformat": 4
 },
 "nbformat": 4,
 "nbformat_minor": 2
}
